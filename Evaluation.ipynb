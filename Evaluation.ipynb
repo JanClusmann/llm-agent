{
 "cells": [
  {
   "cell_type": "code",
   "execution_count": null,
   "metadata": {},
   "outputs": [],
   "source": [
    "import pandas as pd\n",
    "import matplotlib.pyplot as plt\n",
    "import os\n"
   ]
  },
  {
   "cell_type": "code",
   "execution_count": null,
   "metadata": {},
   "outputs": [],
   "source": [
    "# Read Task_A_rater_001.xlsx file\n",
    "# rater_path = \"ExpertRatings/Task_A_rater_001.xlsx\"\n",
    "# column_numbers = [2, 3]  # column numbers in the excel file that are to be analyzed\n",
    "\n",
    "# Read Task_B_rater_001.xlsx file\n",
    "rater_path = \"ExpertRatings/Task_B_rater_001.xlsx\"\n",
    "column_numbers = [2, 3, 4,5,6,7,8,9]  # column numbers in the excel file that are to be analyzed\n",
    "\n",
    "rater_df = pd.read_excel(rater_path, engine='openpyxl')\n",
    "\n",
    "\n",
    "\n",
    "# Extract column names and store them in a list\n",
    "columns_analyze = [rater_df.columns[col_num] for col_num in column_numbers]\n",
    "\n",
    "# Print the list of column names\n",
    "print(\"These are the columns that are to be analyzed:\")\n",
    "print(columns_analyze)\n",
    "\n",
    "\n",
    "\n",
    "# Read secret_master.xlsx file\n",
    "secret_master_path = \"ExpertRatings/secret_master.xlsx\"\n",
    "secret_master_df = pd.read_excel(secret_master_path, engine='openpyxl')\n"
   ]
  },
  {
   "cell_type": "code",
   "execution_count": null,
   "metadata": {},
   "outputs": [],
   "source": [
    "# Merge the DataFrames on the 'index' column\n",
    "merged_df = pd.merge(rater_df, secret_master_df[['index', 'AGI', 'Task', 'GPT', 'Run', 'Table Index']], on='index', how='left')\n"
   ]
  },
  {
   "cell_type": "code",
   "execution_count": null,
   "metadata": {},
   "outputs": [],
   "source": [
    "# Calculate mean values for each unique combination of 'AGI', 'Task', and 'GPT' for both columns\n",
    "grouped_means = merged_df.groupby(['AGI', 'Task', 'GPT'])[columns_analyze].mean().reset_index()\n",
    "\n",
    "\n",
    "color_mapping = {\n",
    "    'BabyAGI': 'salmon',\n",
    "    'Camel': 'cornflowerblue',\n",
    "    'Vanilla': 'lightgreen',\n",
    "    'ChainOfThought': 'lightyellow',\n",
    "}\n",
    "\n",
    "grouped_means['plot_color'] = grouped_means['AGI'].map(color_mapping)\n"
   ]
  },
  {
   "cell_type": "code",
   "execution_count": null,
   "metadata": {},
   "outputs": [],
   "source": [
    "\n",
    "\n",
    "# Create a new column that combines 'AGI', 'Task', and 'GPT' values as a single string\n",
    "grouped_means['Model'] = grouped_means.apply(lambda row: f\"{row['AGI']}_{row['GPT']}\", axis=1)\n",
    "\n",
    "\n",
    "\n",
    "def plot_mean_values(column_name, ax, y_axis_range=(0, 10)):\n",
    "    ax.bar(grouped_means['Model'], grouped_means[column_name], color=grouped_means['plot_color'], edgecolor='black', zorder=3)\n",
    "    ax.set_title(f\"Mean {column_name} Scores by Model\")\n",
    "    ax.set_xlabel(\"Model\")\n",
    "    ax.set_ylabel(\"Score\")\n",
    "    ax.set_ylim(y_axis_range)\n",
    "    \n",
    "    # Set background color and gridline style\n",
    "    ax.set_facecolor('#f0f0f0')  # Light gray background color\n",
    "    ax.yaxis.grid(True, linestyle='--', which='both', zorder=1, color='white', linewidth=1.5)  # White gridlines\n",
    "    \n",
    "    plt.sca(ax)\n",
    "    plt.xticks(range(len(grouped_means)), grouped_means['Model'], rotation=90)\n",
    "\n",
    "\n",
    "# Create the \"plots\" subfolder if it doesn't exist\n",
    "if not os.path.exists(\"plots\"):\n",
    "    os.makedirs(\"plots\")\n",
    "\n",
    "\n",
    "\n",
    "\n",
    "for idx, column_analyze in enumerate(columns_analyze):\n",
    "    fig, ax1 = plt.subplots(1, 1, figsize=(12, 6))\n",
    "    \n",
    "    if idx < 3:\n",
    "        y_axis_range = (0, 10)\n",
    "    else:\n",
    "        y_axis_range = (0, 1)\n",
    "    \n",
    "    plot_mean_values(column_analyze, ax1, y_axis_range)\n",
    "\n",
    "    # Save the plot to the \"plots\" subfolder\n",
    "    plt.savefig(f\"plots/{idx}.png\", bbox_inches='tight')\n",
    "    plt.show()   \n",
    "\n"
   ]
  },
  {
   "cell_type": "code",
   "execution_count": null,
   "metadata": {},
   "outputs": [],
   "source": [
    "\n",
    "\n",
    "\n",
    "\n"
   ]
  },
  {
   "cell_type": "code",
   "execution_count": null,
   "metadata": {},
   "outputs": [],
   "source": []
  }
 ],
 "metadata": {
  "kernelspec": {
   "display_name": "base",
   "language": "python",
   "name": "python3"
  },
  "language_info": {
   "codemirror_mode": {
    "name": "ipython",
    "version": 3
   },
   "file_extension": ".py",
   "mimetype": "text/x-python",
   "name": "python",
   "nbconvert_exporter": "python",
   "pygments_lexer": "ipython3",
   "version": "3.9.12"
  },
  "orig_nbformat": 4
 },
 "nbformat": 4,
 "nbformat_minor": 2
}
